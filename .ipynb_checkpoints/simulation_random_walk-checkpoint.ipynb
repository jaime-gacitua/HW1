{
 "cells": [
  {
   "cell_type": "markdown",
   "metadata": {},
   "source": [
    "### Question 5A"
   ]
  },
  {
   "cell_type": "code",
   "execution_count": 50,
   "metadata": {
    "collapsed": false
   },
   "outputs": [
    {
     "name": "stdout",
     "output_type": "stream",
     "text": [
      "n= 1000\n",
      "p\tExpect\tLawLrg\tDIF\n",
      "-------------------------------\n",
      "0.65\t0.3\t0.306\t0.006\n",
      "0.55\t0.1\t0.078\t0.022\n",
      "0.5\t0.0\t0.044\t0.044\n"
     ]
    }
   ],
   "source": [
    "import random\n",
    "import matplotlib.pyplot as plt\n",
    "\n",
    "delta=[]\n",
    "Rtemp=[]\n",
    "R=[]\n",
    "\n",
    "\n",
    "n=1000\n",
    "R0=0\n",
    "i=0\n",
    "p=[0.65, 0.55, 0.5]\n",
    "\n",
    "strongLaw = []\n",
    "expectation = []\n",
    "\n",
    "\n",
    "for prob in p:\n",
    "    Rtemp=[]\n",
    "    delta=[]\n",
    "    Rtemp.append(R0)\n",
    "    \n",
    "    for i in range(n):\n",
    "        d = random.random()\n",
    "\n",
    "        if d<prob:\n",
    "            delta.append(1)\n",
    "        else:\n",
    "            delta.append(-1)\n",
    "        Rtemp.append(Rtemp[i]+delta[i])    \n",
    "    R.append(Rtemp)\n",
    "\n",
    "for prob in p:\n",
    "    exp = 2*prob-1\n",
    "    expectation.append(exp)\n",
    "    \n",
    "for series in R:\n",
    "    strongLawtemp = series[n]/n\n",
    "    strongLaw.append(strongLawtemp)\n",
    "    plt.plot(series)\n",
    "#plt.show()\n",
    "\n",
    "print('n= '+str(n))\n",
    "print('p\\tExpect\\tLawLrg\\tDIF')\n",
    "print('-------------------------------')\n",
    "for i in range(len(p)):\n",
    "    print(str(round(p[i],2))+\"\\t\"+str(round(expectation[i],3))+\"\\t\"+str(round(strongLaw[i],3))+\n",
    "             \"\\t\"+str(round(abs(expectation[i]-strongLaw[i]),3)))\n",
    "\n",
    "\n",
    "\n",
    "\n",
    "\n",
    "\n",
    "\n",
    "\n",
    "        \n",
    "    \n",
    "    "
   ]
  },
  {
   "cell_type": "markdown",
   "metadata": {},
   "source": [
    "### Question 5B"
   ]
  },
  {
   "cell_type": "code",
   "execution_count": 66,
   "metadata": {
    "collapsed": false
   },
   "outputs": [
    {
     "name": "stdout",
     "output_type": "stream",
     "text": [
      "[1.0, 0.5536, 0.0016]\n"
     ]
    }
   ],
   "source": [
    "import random\n",
    "import matplotlib.pyplot as plt\n",
    "\n",
    "delta=0\n",
    "Rtemp=[]\n",
    "\n",
    "n=1000\n",
    "m=5000\n",
    "R0=0\n",
    "a=100\n",
    "start=0\n",
    "p=[0.65, 0.55, 0.5]\n",
    "IlistTemp=[]\n",
    "I=[]\n",
    "\n",
    "itemp=0\n",
    "\n",
    "for prob in p:\n",
    "    IlistTemp=[]\n",
    "    for j in range(m):\n",
    "        \n",
    "        Rtemp=[]\n",
    "        delta=0\n",
    "        Rtemp.append(R0)\n",
    "        itemp=0\n",
    "        for i in range(n):\n",
    "            d = random.random()\n",
    "            if d<prob:\n",
    "                delta=1\n",
    "            else:\n",
    "                delta=-1\n",
    "            Rtemp.append(Rtemp[i]+delta)    \n",
    "            if Rtemp[i+1]>100:\n",
    "                itemp=1\n",
    "        \n",
    "        IlistTemp.append(itemp)\n",
    "        \n",
    "#    print(IlistTemp)\n",
    "\n",
    "    I.append(IlistTemp)\n",
    "    \n",
    "probEstimates = []\n",
    "for series in I:\n",
    "    total = sum(series)\n",
    "    probEstimates.append(total/m)\n",
    "\n",
    "print(probEstimates)\n",
    "\n",
    "\n"
   ]
  },
  {
   "cell_type": "code",
   "execution_count": null,
   "metadata": {
    "collapsed": true
   },
   "outputs": [],
   "source": []
  }
 ],
 "metadata": {
  "kernelspec": {
   "display_name": "Python 3",
   "language": "python",
   "name": "python3"
  },
  "language_info": {
   "codemirror_mode": {
    "name": "ipython",
    "version": 3
   },
   "file_extension": ".py",
   "mimetype": "text/x-python",
   "name": "python",
   "nbconvert_exporter": "python",
   "pygments_lexer": "ipython3",
   "version": "3.4.3"
  }
 },
 "nbformat": 4,
 "nbformat_minor": 0
}
